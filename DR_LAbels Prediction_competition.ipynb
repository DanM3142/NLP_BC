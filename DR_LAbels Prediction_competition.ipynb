{
 "cells": [
  {
   "cell_type": "code",
   "execution_count": 1,
   "id": "17516ebc-161c-427c-9893-e3e07a9c58a2",
   "metadata": {},
   "outputs": [
    {
     "name": "stderr",
     "output_type": "stream",
     "text": [
      "C:\\Users\\draph\\AppData\\Local\\Temp\\ipykernel_120408\\775007738.py:1: DeprecationWarning: \n",
      "Pyarrow will become a required dependency of pandas in the next major release of pandas (pandas 3.0),\n",
      "(to allow more performant data types, such as the Arrow string type, and better interoperability with other libraries)\n",
      "but was not found to be installed on your system.\n",
      "If this would cause problems for you,\n",
      "please provide us feedback at https://github.com/pandas-dev/pandas/issues/54466\n",
      "        \n",
      "  import pandas as pd\n"
     ]
    },
    {
     "name": "stdout",
     "output_type": "stream",
     "text": [
      "   document                                          full_text  \\\n",
      "0         7  Design Thinking for innovation reflexion-Avril...   \n",
      "1        10  Diego Estrada\\n\\nDesign Thinking Assignment\\n\\...   \n",
      "2        16  Reporting process\\n\\nby Gilberto Gamboa\\n\\nCha...   \n",
      "3        20  Design Thinking for Innovation\\n\\nSindy Samaca...   \n",
      "4        56  Assignment:  Visualization Reflection  Submitt...   \n",
      "\n",
      "                                              tokens  \\\n",
      "0  [Design, Thinking, for, innovation, reflexion,...   \n",
      "1  [Diego, Estrada, \\n\\n, Design, Thinking, Assig...   \n",
      "2  [Reporting, process, \\n\\n, by, Gilberto, Gambo...   \n",
      "3  [Design, Thinking, for, Innovation, \\n\\n, Sind...   \n",
      "4  [Assignment, :,   , Visualization,  , Reflecti...   \n",
      "\n",
      "                                 trailing_whitespace  \\\n",
      "0  [True, True, True, True, False, False, True, F...   \n",
      "1  [True, False, False, True, True, False, False,...   \n",
      "2  [True, False, False, True, True, False, False,...   \n",
      "3  [True, True, True, False, False, True, False, ...   \n",
      "4  [False, False, False, False, False, False, Fal...   \n",
      "\n",
      "                                              labels  \n",
      "0  [O, O, O, O, O, O, O, O, O, B-NAME_STUDENT, I-...  \n",
      "1  [B-NAME_STUDENT, I-NAME_STUDENT, O, O, O, O, O...  \n",
      "2  [O, O, O, O, B-NAME_STUDENT, I-NAME_STUDENT, O...  \n",
      "3  [O, O, O, O, O, B-NAME_STUDENT, I-NAME_STUDENT...  \n",
      "4  [O, O, O, O, O, O, O, O, O, O, O, O, B-NAME_ST...  \n"
     ]
    }
   ],
   "source": [
    "import pandas as pd\n",
    "import json\n",
    "import re\n",
    "from collections import Counter\n",
    "import presidio_analyzer\n",
    "from presidio_analyzer import AnalyzerEngine, PatternRecognizer, Pattern\n",
    "# Define the file path\n",
    "file_path = r\"C:\\Users\\draph\\Downloads\\train.json\\train.json\"\n",
    "\n",
    "# Load the JSON file into a Python dictionary\n",
    "with open(file_path, 'r') as f:\n",
    "    data = json.load(f)\n",
    "# Assuming 'data' is the loaded JSON data\n",
    "# Convert the JSON data to a DataFrame\n",
    "df = pd.DataFrame(data)\n",
    "print(df[0:5])"
   ]
  },
  {
   "cell_type": "code",
   "execution_count": 3,
   "id": "620e4b80-42e8-4e4d-98b9-0ae45d58832c",
   "metadata": {},
   "outputs": [
    {
     "name": "stdout",
     "output_type": "stream",
     "text": [
      "        tokens  trailing_whitespace          labels\n",
      "0       Design                 True               O\n",
      "1     Thinking                 True               O\n",
      "2          for                 True               O\n",
      "3   innovation                 True               O\n",
      "4    reflexion                False               O\n",
      "5            -                False               O\n",
      "6        Avril                 True               O\n",
      "7         2021                False               O\n",
      "8            -                False               O\n",
      "9     Nathalie                 True  B-NAME_STUDENT\n",
      "10       Sylla                False  I-NAME_STUDENT\n",
      "11        \\n\\n                False               O\n",
      "12   Challenge                 True               O\n"
     ]
    }
   ],
   "source": [
    "#print(df['tokens','trailing_whitespace','labels'].apply(lambda x: x[0] if len(x) > 0 else None))\n",
    "df2 = pd.DataFrame()\n",
    "df2=df.loc[:, ['tokens', 'trailing_whitespace', 'labels']].apply(lambda x: x[0] if len(x) > 0 else None)\n",
    "print(df2[0:13])\n",
    "\n",
    "#df2[1]=df.loc[:, ['tokens', 'trailing_whitespace', 'labels']].apply(lambda x: x[1] if len(x) > 0 else None)\n",
    "#df2[2]=df.loc[:, ['tokens', 'trailing_whitespace', 'labels']].apply(lambda x: x[2] if len(x) > 0 else None)"
   ]
  },
  {
   "cell_type": "code",
   "execution_count": 4,
   "id": "f9cb988d-808e-47e1-9ef0-ef1d41c332f9",
   "metadata": {},
   "outputs": [
    {
     "ename": "ValueError",
     "evalue": "Cannot set a DataFrame with multiple columns to the single column 0",
     "output_type": "error",
     "traceback": [
      "\u001b[1;31m---------------------------------------------------------------------------\u001b[0m",
      "\u001b[1;31mValueError\u001b[0m                                Traceback (most recent call last)",
      "\u001b[1;32m~\\AppData\\Local\\Temp\\ipykernel_120408\\2718987256.py\u001b[0m in \u001b[0;36m?\u001b[1;34m()\u001b[0m\n\u001b[0;32m      3\u001b[0m \u001b[1;33m\u001b[0m\u001b[0m\n\u001b[0;32m      4\u001b[0m \u001b[1;31m# Loop through indices (0, 1, 2) to extract elements from each row\u001b[0m\u001b[1;33m\u001b[0m\u001b[1;33m\u001b[0m\u001b[0m\n\u001b[0;32m      5\u001b[0m \u001b[1;32mfor\u001b[0m \u001b[0mi\u001b[0m \u001b[1;32min\u001b[0m \u001b[0mrange\u001b[0m\u001b[1;33m(\u001b[0m\u001b[1;36m3\u001b[0m\u001b[1;33m)\u001b[0m\u001b[1;33m:\u001b[0m  \u001b[1;31m# Assuming there are 3 elements in each row (tokens, trailing_whitespace, labels)\u001b[0m\u001b[1;33m\u001b[0m\u001b[1;33m\u001b[0m\u001b[0m\n\u001b[0;32m      6\u001b[0m     \u001b[1;31m# Extract the ith element from each column for all rows\u001b[0m\u001b[1;33m\u001b[0m\u001b[1;33m\u001b[0m\u001b[0m\n\u001b[1;32m----> 7\u001b[1;33m     \u001b[0mdf2\u001b[0m\u001b[1;33m[\u001b[0m\u001b[0mi\u001b[0m\u001b[1;33m]\u001b[0m \u001b[1;33m=\u001b[0m \u001b[0mdf\u001b[0m\u001b[1;33m.\u001b[0m\u001b[0mloc\u001b[0m\u001b[1;33m[\u001b[0m\u001b[1;33m:\u001b[0m\u001b[1;33m,\u001b[0m \u001b[1;33m[\u001b[0m\u001b[1;34m'tokens'\u001b[0m\u001b[1;33m,\u001b[0m \u001b[1;34m'trailing_whitespace'\u001b[0m\u001b[1;33m,\u001b[0m \u001b[1;34m'labels'\u001b[0m\u001b[1;33m]\u001b[0m\u001b[1;33m]\u001b[0m\u001b[1;33m.\u001b[0m\u001b[0mapply\u001b[0m\u001b[1;33m(\u001b[0m\u001b[1;32mlambda\u001b[0m \u001b[0mx\u001b[0m\u001b[1;33m:\u001b[0m \u001b[0mx\u001b[0m\u001b[1;33m[\u001b[0m\u001b[0mi\u001b[0m\u001b[1;33m]\u001b[0m \u001b[1;32mif\u001b[0m \u001b[0mlen\u001b[0m\u001b[1;33m(\u001b[0m\u001b[0mx\u001b[0m\u001b[1;33m)\u001b[0m \u001b[1;33m>\u001b[0m \u001b[0mi\u001b[0m \u001b[1;32melse\u001b[0m \u001b[1;32mNone\u001b[0m\u001b[1;33m)\u001b[0m\u001b[1;33m\u001b[0m\u001b[1;33m\u001b[0m\u001b[0m\n\u001b[0m\u001b[0;32m      8\u001b[0m \u001b[1;33m\u001b[0m\u001b[0m\n\u001b[0;32m      9\u001b[0m \u001b[1;31m# Print the resulting DataFrame\u001b[0m\u001b[1;33m\u001b[0m\u001b[1;33m\u001b[0m\u001b[0m\n\u001b[0;32m     10\u001b[0m \u001b[0mprint\u001b[0m\u001b[1;33m(\u001b[0m\u001b[0mdf2\u001b[0m\u001b[1;33m)\u001b[0m\u001b[1;33m\u001b[0m\u001b[1;33m\u001b[0m\u001b[0m\n",
      "\u001b[1;32m~\\AppData\\Local\\Programs\\Python\\Python312\\Lib\\site-packages\\pandas\\core\\frame.py\u001b[0m in \u001b[0;36m?\u001b[1;34m(self, key, value)\u001b[0m\n\u001b[0;32m   4285\u001b[0m             \u001b[0mself\u001b[0m\u001b[1;33m.\u001b[0m\u001b[0m_setitem_frame\u001b[0m\u001b[1;33m(\u001b[0m\u001b[0mkey\u001b[0m\u001b[1;33m,\u001b[0m \u001b[0mvalue\u001b[0m\u001b[1;33m)\u001b[0m\u001b[1;33m\u001b[0m\u001b[1;33m\u001b[0m\u001b[0m\n\u001b[0;32m   4286\u001b[0m         \u001b[1;32melif\u001b[0m \u001b[0misinstance\u001b[0m\u001b[1;33m(\u001b[0m\u001b[0mkey\u001b[0m\u001b[1;33m,\u001b[0m \u001b[1;33m(\u001b[0m\u001b[0mSeries\u001b[0m\u001b[1;33m,\u001b[0m \u001b[0mnp\u001b[0m\u001b[1;33m.\u001b[0m\u001b[0mndarray\u001b[0m\u001b[1;33m,\u001b[0m \u001b[0mlist\u001b[0m\u001b[1;33m,\u001b[0m \u001b[0mIndex\u001b[0m\u001b[1;33m)\u001b[0m\u001b[1;33m)\u001b[0m\u001b[1;33m:\u001b[0m\u001b[1;33m\u001b[0m\u001b[1;33m\u001b[0m\u001b[0m\n\u001b[0;32m   4287\u001b[0m             \u001b[0mself\u001b[0m\u001b[1;33m.\u001b[0m\u001b[0m_setitem_array\u001b[0m\u001b[1;33m(\u001b[0m\u001b[0mkey\u001b[0m\u001b[1;33m,\u001b[0m \u001b[0mvalue\u001b[0m\u001b[1;33m)\u001b[0m\u001b[1;33m\u001b[0m\u001b[1;33m\u001b[0m\u001b[0m\n\u001b[0;32m   4288\u001b[0m         \u001b[1;32melif\u001b[0m \u001b[0misinstance\u001b[0m\u001b[1;33m(\u001b[0m\u001b[0mvalue\u001b[0m\u001b[1;33m,\u001b[0m \u001b[0mDataFrame\u001b[0m\u001b[1;33m)\u001b[0m\u001b[1;33m:\u001b[0m\u001b[1;33m\u001b[0m\u001b[1;33m\u001b[0m\u001b[0m\n\u001b[1;32m-> 4289\u001b[1;33m             \u001b[0mself\u001b[0m\u001b[1;33m.\u001b[0m\u001b[0m_set_item_frame_value\u001b[0m\u001b[1;33m(\u001b[0m\u001b[0mkey\u001b[0m\u001b[1;33m,\u001b[0m \u001b[0mvalue\u001b[0m\u001b[1;33m)\u001b[0m\u001b[1;33m\u001b[0m\u001b[1;33m\u001b[0m\u001b[0m\n\u001b[0m\u001b[0;32m   4290\u001b[0m         elif (\n\u001b[0;32m   4291\u001b[0m             \u001b[0mis_list_like\u001b[0m\u001b[1;33m(\u001b[0m\u001b[0mvalue\u001b[0m\u001b[1;33m)\u001b[0m\u001b[1;33m\u001b[0m\u001b[1;33m\u001b[0m\u001b[0m\n\u001b[0;32m   4292\u001b[0m             \u001b[1;32mand\u001b[0m \u001b[1;32mnot\u001b[0m \u001b[0mself\u001b[0m\u001b[1;33m.\u001b[0m\u001b[0mcolumns\u001b[0m\u001b[1;33m.\u001b[0m\u001b[0mis_unique\u001b[0m\u001b[1;33m\u001b[0m\u001b[1;33m\u001b[0m\u001b[0m\n",
      "\u001b[1;32m~\\AppData\\Local\\Programs\\Python\\Python312\\Lib\\site-packages\\pandas\\core\\frame.py\u001b[0m in \u001b[0;36m?\u001b[1;34m(self, key, value)\u001b[0m\n\u001b[0;32m   4443\u001b[0m \u001b[1;33m\u001b[0m\u001b[0m\n\u001b[0;32m   4444\u001b[0m             \u001b[1;32mreturn\u001b[0m \u001b[0mself\u001b[0m\u001b[1;33m.\u001b[0m\u001b[0misetitem\u001b[0m\u001b[1;33m(\u001b[0m\u001b[0mlocs\u001b[0m\u001b[1;33m,\u001b[0m \u001b[0mvalue\u001b[0m\u001b[1;33m)\u001b[0m\u001b[1;33m\u001b[0m\u001b[1;33m\u001b[0m\u001b[0m\n\u001b[0;32m   4445\u001b[0m \u001b[1;33m\u001b[0m\u001b[0m\n\u001b[0;32m   4446\u001b[0m         \u001b[1;32mif\u001b[0m \u001b[0mlen\u001b[0m\u001b[1;33m(\u001b[0m\u001b[0mvalue\u001b[0m\u001b[1;33m.\u001b[0m\u001b[0mcolumns\u001b[0m\u001b[1;33m)\u001b[0m \u001b[1;33m>\u001b[0m \u001b[1;36m1\u001b[0m\u001b[1;33m:\u001b[0m\u001b[1;33m\u001b[0m\u001b[1;33m\u001b[0m\u001b[0m\n\u001b[1;32m-> 4447\u001b[1;33m             raise ValueError(\n\u001b[0m\u001b[0;32m   4448\u001b[0m                 \u001b[1;34m\"Cannot set a DataFrame with multiple columns to the single \"\u001b[0m\u001b[1;33m\u001b[0m\u001b[1;33m\u001b[0m\u001b[0m\n\u001b[0;32m   4449\u001b[0m                 \u001b[1;33mf\"\u001b[0m\u001b[1;33mcolumn \u001b[0m\u001b[1;33m{\u001b[0m\u001b[0mkey\u001b[0m\u001b[1;33m}\u001b[0m\u001b[1;33m\"\u001b[0m\u001b[1;33m\u001b[0m\u001b[1;33m\u001b[0m\u001b[0m\n\u001b[0;32m   4450\u001b[0m             \u001b[1;33m)\u001b[0m\u001b[1;33m\u001b[0m\u001b[1;33m\u001b[0m\u001b[0m\n",
      "\u001b[1;31mValueError\u001b[0m: Cannot set a DataFrame with multiple columns to the single column 0"
     ]
    }
   ],
   "source": [
    "# Create an empty DataFrame to store the results\n",
    "df2 = pd.DataFrame()\n",
    "\n",
    "# Loop through indices (0, 1, 2) to extract elements from each row\n",
    "for i in range(3):  # Assuming there are 3 elements in each row (tokens, trailing_whitespace, labels)\n",
    "    # Extract the ith element from each column for all rows\n",
    "    df2[i] = df.loc[:, ['tokens', 'trailing_whitespace', 'labels']].apply(lambda x: x[i] if len(x) > i else None)\n",
    "\n",
    "# Print the resulting DataFrame\n",
    "print(df2)"
   ]
  },
  {
   "cell_type": "markdown",
   "id": "37e50ea3-e72d-4ad4-952b-c75d11c53f97",
   "metadata": {},
   "source": [
    "## Print an Essay"
   ]
  },
  {
   "cell_type": "code",
   "execution_count": 5,
   "id": "cfa34235-6c14-4b76-8b1a-3e27819e3166",
   "metadata": {},
   "outputs": [
    {
     "name": "stdout",
     "output_type": "stream",
     "text": [
      "Design Thinking for innovation reflexion-Avril 2021-Nathalie Sylla\n",
      "\n",
      "Challenge & selection\n",
      "\n",
      "The tool I use to help all stakeholders finding their way through the complexity of a project is the  mind map.\n",
      "\n",
      "What exactly is a mind map? According to the definition of Buzan T. and Buzan B. (1999, Dessine-moi  l'intelligence. Paris: Les Éditions d'Organisation.), the mind map (or heuristic diagram) is a graphic  representation technique that follows the natural functioning of the mind and allows the brain's  potential to be released. Cf Annex1\n",
      "\n",
      "This tool has many advantages:\n",
      "\n",
      "•  It is accessible to all and does not require significant material investment and can be done  quickly\n",
      "\n",
      "•  It is scalable\n",
      "\n",
      "•  It allows categorization and linking of information\n",
      "\n",
      "•  It can be applied to any type of situation: notetaking, problem solving, analysis, creation of  new ideas\n",
      "\n",
      "•  It is suitable for all people and is easy to learn\n",
      "\n",
      "•  It is fun and encourages exchanges\n",
      "\n",
      "•  It makes visible the dimension of projects, opportunities, interconnections\n",
      "\n",
      "•  It synthesizes\n",
      "\n",
      "•  It makes the project understandable\n",
      "\n",
      "•  It allows you to explore ideas\n",
      "\n",
      "The creation of a mind map starts with an idea/problem located at its center. This starting point  generates ideas/work areas, incremented around this center in a radial structure, which in turn is  completed with as many branches as new ideas.\n",
      "\n",
      "This tool enables creativity and logic to be mobilized, it is a map of the thoughts.\n",
      "\n",
      "Creativity is enhanced because participants feel comfortable with the method.\n",
      "\n",
      "Application & Insight\n",
      "\n",
      "I start the process of the mind map creation with the stakeholders standing around a large board  (white or paper board). In the center of the board, I write and highlight the topic to design.\n",
      "\n",
      "Through a series of questions, I guide the stakeholders in modelling the mind map. I adapt the series  of questions according to the topic to be addressed. In the type of questions, we can use: who, what,  when, where, why, how, how much.\n",
      "\n",
      "The use of the “why” is very interesting to understand the origin. By this way, the interviewed person  frees itself from paradigms and thus dares to propose new ideas / ways of functioning. I plan two  hours for a workshop.\n",
      "\n",
      "Design Thinking for innovation reflexion-Avril 2021-Nathalie Sylla\n",
      "\n",
      "After modelling the mind map on paper, I propose to the participants a digital visualization of their  work with the addition of color codes, images and interconnections. This second workshop also lasts  two hours and allows the mind map to evolve. Once familiarized with it, the stakeholders discover  the power of the tool. Then, the second workshop brings out even more ideas and constructive  exchanges between the stakeholders. Around this new mind map, they have learned to work  together and want to make visible the untold ideas.\n",
      "\n",
      "I now present all the projects I manage in this type of format in order to ease rapid understanding for  decision-makers. These presentations are the core of my business models. The decision-makers are  thus able to identify the opportunities of the projects and can take quick decisions to validate them.  They find answers to their questions thank to a schematic representation.\n",
      "\n",
      "Approach\n",
      "\n",
      "What I find amazing with the facilitation of this type of workshop is the participants commitment for  the project. This tool helps to give meaning. The participants appropriate the story and want to keep  writing it. Then, they easily become actors or sponsors of the project. A trust relationship is built,  thus facilitating the implementation of related actions.\n",
      "\n",
      "Design Thinking for innovation reflexion-Avril 2021-Nathalie Sylla\n",
      "\n",
      "Annex 1: Mind Map Shared facilities project\n",
      "\n",
      "\n"
     ]
    }
   ],
   "source": [
    "print(df['full_text'][0])"
   ]
  },
  {
   "cell_type": "markdown",
   "id": "f3c193d6-cde7-4f40-956e-97fc25e2b38f",
   "metadata": {},
   "source": [
    "## Analyze Essay->Presidio"
   ]
  },
  {
   "cell_type": "code",
   "execution_count": 17,
   "id": "15f700d4-d06e-465e-aa18-8409463c1008",
   "metadata": {},
   "outputs": [
    {
     "ename": "AttributeError",
     "evalue": "'RecognizerResult' object has no attribute 'getProperties'",
     "output_type": "error",
     "traceback": [
      "\u001b[1;31m---------------------------------------------------------------------------\u001b[0m",
      "\u001b[1;31mAttributeError\u001b[0m                            Traceback (most recent call last)",
      "Cell \u001b[1;32mIn[17], line 16\u001b[0m\n\u001b[0;32m     14\u001b[0m             \u001b[38;5;28;01mbreak\u001b[39;00m\n\u001b[0;32m     15\u001b[0m     \u001b[38;5;28mprint\u001b[39m(\u001b[38;5;124m\"\u001b[39m\u001b[38;5;124mEntity type:\u001b[39m\u001b[38;5;124m\"\u001b[39m, entity_type)\n\u001b[1;32m---> 16\u001b[0m \u001b[43manalyzer_results\u001b[49m\u001b[43m[\u001b[49m\u001b[38;5;241;43m0\u001b[39;49m\u001b[43m]\u001b[49m\u001b[38;5;241;43m.\u001b[39;49m\u001b[43mgetProperties\u001b[49m()   \n\u001b[0;32m     17\u001b[0m \u001b[38;5;66;03m#print(Type_grab(analyzer_results[0].Getstring()))    \u001b[39;00m\n\u001b[0;32m     18\u001b[0m \u001b[38;5;66;03m#pd.DataFrame(analyzer_results[0])\u001b[39;00m\n\u001b[0;32m     19\u001b[0m \u001b[38;5;66;03m#for res in analyzer_results:\u001b[39;00m\n\u001b[0;32m     20\u001b[0m     \u001b[38;5;66;03m#print(res)\u001b[39;00m\n",
      "\u001b[1;31mAttributeError\u001b[0m: 'RecognizerResult' object has no attribute 'getProperties'"
     ]
    }
   ],
   "source": [
    "analyzer=AnalyzerEngine()\n",
    "analyzer_results=analyzer.analyze(df['full_text'][0],language=\"en\")\n",
    "\n",
    "def Type_grab(string1):\n",
    "    # Split the string by comma and whitespace\n",
    "    result_parts = string1.split(\", \")\n",
    "\n",
    "    # Iterate through the parts and find the one that starts with \"type: \"\n",
    "    entity_type = None\n",
    "    for part in result_parts:\n",
    "        if part.startswith(\"type: \"):\n",
    "            # Extract the type by removing \"type: \" prefix\n",
    "            entity_type = part.replace(\"type: \", \"\")\n",
    "            break\n",
    "    print(\"Entity type:\", entity_type)\n",
    "\n",
    "presidio_output = [\n",
    "    {\"text\": \"John Doe\", \"start\": 0, \"end\": 8, \"entity_type\": \"PERSON\"},\n",
    "    {\"text\": \"New York\", \"start\": 10, \"end\": 18, \"entity_type\": \"LOCATION\"},\n",
    "    {\"text\": \"2024-01-01\", \"start\": 20, \"end\": 29, \"entity_type\": \"DATE\"},\n",
    "    {\"text\": \"john.doe@example.com\", \"start\": 31, \"end\": 52, \"entity_type\": \"EMAIL_ADDRESS\"}\n",
    "]\n",
    "\n",
    "# Extract entities with their types\n",
    "parsed_entities = [(entity[\"text\"], entity[\"entity_type\"]) for entity in presidio_output]\n",
    "\n",
    "# Display the extracted entities and their types\n",
    "for entity, entity_type in parsed_entities:\n",
    "    print(f\"Entity: {entity}, Type: {entity_type}\")\n",
    "analyzer_results[0].getProperties()   \n",
    "#print(Type_grab(analyzer_results[0].Getstring()))    \n",
    "#pd.DataFrame(analyzer_results[0])\n",
    "for res in analyzer_results:\n",
    "    print(res)\n",
    "    "
   ]
  },
  {
   "cell_type": "markdown",
   "id": "1d8635be-6d15-47b2-a6ef-14dc8bceb28c",
   "metadata": {},
   "source": [
    "## Book citation"
   ]
  },
  {
   "cell_type": "code",
   "execution_count": 42,
   "id": "6adbc01f-5096-4d5b-bcac-85b3eed4cc88",
   "metadata": {},
   "outputs": [
    {
     "name": "stdout",
     "output_type": "stream",
     "text": [
      "{'Design Thinking': 6283, 'economics': 58, '2020': 179, '2021': 99, 'source': 2277, 'Sources': 1550, 'Reference': 980, 'References': 450, 'Challenge': 15113, 'Approach': 11668}\n",
      "{'Design Thinking': 3164, 'economics': 43, '2020': 129, '2021': 72, 'source': 1447, 'Sources': 1088, 'Reference': 799, 'References': 379, 'Challenge': 6357, 'Approach': 6205}\n"
     ]
    },
    {
     "data": {
      "text/plain": [
       "6807"
      ]
     },
     "execution_count": 42,
     "metadata": {},
     "output_type": "execute_result"
    }
   ],
   "source": [
    "# Define specific words to search for\n",
    "specific_words = ['Design Thinking', 'economics','2020', '2021', 'source','Sources', 'Reference', 'References', 'Challenge', 'Approach']\n",
    "\n",
    "# Function to count occurrences of specific words in all essays\n",
    "def count_specific_words_in_all_essays(df, words):\n",
    "    word_counts = Counter()\n",
    "    for essay_text in df['full_text']:\n",
    "        for word in words:\n",
    "            word_counts[word] += essay_text.lower().count(word.lower())\n",
    "    return dict(word_counts)\n",
    "\n",
    "# Function to count the number of essays containing each specific word\n",
    "def count_essays_containing_specific_words(df, words):\n",
    "    essay_counts = {word: sum(word.lower() in essay.lower() for essay in df['full_text']) for word in words}\n",
    "    return essay_counts\n",
    "\n",
    "# Get the count of essays containing each specific word\n",
    "essay_counts = count_essays_containing_specific_words(df, specific_words)\n",
    "\n",
    "# Get the total word counts across all essays\n",
    "total_word_counts = count_specific_words_in_all_essays(df, specific_words)\n",
    "# Print the total word counts\n",
    "print(total_word_counts)\n",
    "\n",
    "# Print the counts\n",
    "print(essay_counts)\n",
    "len(df)"
   ]
  },
  {
   "cell_type": "code",
   "execution_count": null,
   "id": "c1a32a30-448c-4c13-a5bd-8e70fc7b5ccf",
   "metadata": {},
   "outputs": [],
   "source": []
  }
 ],
 "metadata": {
  "kernelspec": {
   "display_name": "Python 3 (ipykernel)",
   "language": "python",
   "name": "python3"
  },
  "language_info": {
   "codemirror_mode": {
    "name": "ipython",
    "version": 3
   },
   "file_extension": ".py",
   "mimetype": "text/x-python",
   "name": "python",
   "nbconvert_exporter": "python",
   "pygments_lexer": "ipython3",
   "version": "3.12.1"
  }
 },
 "nbformat": 4,
 "nbformat_minor": 5
}
